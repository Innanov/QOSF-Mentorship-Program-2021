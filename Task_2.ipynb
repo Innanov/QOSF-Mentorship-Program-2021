{
 "cells": [
  {
   "cell_type": "markdown",
   "id": "dced6198-f24f-4523-8fbd-69c0ae6870ab",
   "metadata": {},
   "source": [
    "# Task 2 - QOSF Mentorship Program"
   ]
  },
  {
   "cell_type": "code",
   "execution_count": 1,
   "id": "be3086b4-941f-492b-83bc-54c06b68046a",
   "metadata": {},
   "outputs": [],
   "source": [
    "import qiskit\n",
    "from qiskit import QuantumCircuit, QuantumRegister, ClassicalRegister\n",
    "from qiskit import Aer, transpile, assemble, IBMQ, execute\n",
    "from qiskit.circuit.library import RealAmplitudes, TwoLocal\n",
    "from qiskit.visualization import plot_histogram\n",
    "import numpy as np\n",
    "import pandas as pd\n",
    "import matplotlib.pyplot as plt\n",
    "from sklearn.model_selection import train_test_split\n",
    "from qiskit.circuit.library import PauliFeatureMap, ZZFeatureMap\n",
    "from qiskit.opflow import Gradient, NaturalGradient, PauliExpectation, CircuitSampler\n",
    "from qiskit_machine_learning.neural_networks import CircuitQNN\n",
    "from qiskit.algorithms.optimizers import GradientDescent, SPSA, QNSPSA\n",
    "from qiskit_machine_learning.algorithms import NeuralNetworkClassifier, VQC, QGAN, QSVC\n",
    "from qiskit.utils import QuantumInstance\n",
    "from qiskit_machine_learning.kernels import QuantumKernel\n",
    "from IPython.display import display, Math, Latex\n",
    "from math import pi, log\n",
    "import random\n",
    "import time\n",
    "import datetime\n",
    "from qiskit.circuit.library import ZZFeatureMap\n",
    "from qiskit.opflow import Z, X, Y, I, StateFn\n",
    "from qiskit_machine_learning.algorithms import NeuralNetworkClassifier\n",
    "from qiskit_machine_learning.datasets import ad_hoc_data"
   ]
  },
  {
   "cell_type": "markdown",
   "id": "940e0495-f562-4c7f-b1da-cf30a5aeeb5b",
   "metadata": {},
   "source": [
    "### Prepare 4 random 4-qubit quantum states of your choice"
   ]
  },
  {
   "cell_type": "code",
   "execution_count": 2,
   "id": "9afc3907-03b0-40d2-88d5-ee11ef34400c",
   "metadata": {},
   "outputs": [],
   "source": [
    "backend = Aer.get_backend('qasm_simulator')\n",
    "q_instance = QuantumInstance(backend, shots = 1024, seed_simulator = 2718, seed_transpiler = 2718)\n",
    "n = 4 # 4 qubits"
   ]
  },
  {
   "cell_type": "markdown",
   "id": "7176a2d9-679b-41f6-befa-35220685301b",
   "metadata": {},
   "source": [
    "### Create and train a variational circuit that transforms input states into predefined output states"
   ]
  },
  {
   "cell_type": "code",
   "execution_count": 4,
   "id": "2c792b5e-ae67-4b6d-9c31-ff5ada5afebd",
   "metadata": {},
   "outputs": [],
   "source": [
    "states = {\n",
    "    0: '0011',\n",
    "    1: '0101',\n",
    "    2: '1010',\n",
    "    3: '1100'\n",
    "}"
   ]
  },
  {
   "cell_type": "code",
   "execution_count": 5,
   "id": "9d8a3276-84fe-4acc-8945-db0a1ae65b43",
   "metadata": {},
   "outputs": [],
   "source": [
    "def random_states():\n",
    "    states = []\n",
    "    str_inp_states = []\n",
    "    \n",
    "    while len(states) < 4:\n",
    "        qc = QuantumCircuit(4)\n",
    "        qc.h(range(4))\n",
    "        qc.measure_all()\n",
    "        sim = Aer.get_backend('statevector_simulator')\n",
    "        input_state = list(sim.run(assemble(qc)).result().get_counts())[0]\n",
    "        if input_state not in str_inp_states:\n",
    "            output_state = len(states)\n",
    "            str_inp_states.append(input_state)\n",
    "            states.append([[int(x) for x in list(input_state)], [output_state]])\n",
    "            \n",
    "    a = []\n",
    "    for s in states:\n",
    "        a0 = s[0]\n",
    "        for a1 in s[1]:\n",
    "            a0.append(a1)\n",
    "        a.append(a0)\n",
    "    \n",
    "    return a"
   ]
  },
  {
   "cell_type": "code",
   "execution_count": 6,
   "id": "88349c89-d12e-405b-bd68-2440feb4b162",
   "metadata": {},
   "outputs": [
    {
     "name": "stderr",
     "output_type": "stream",
     "text": [
      "/opt/conda/lib/python3.8/site-packages/qiskit/utils/deprecation.py:62: DeprecationWarning: Using a qobj for run() is deprecated as of qiskit-aer 0.9.0 and will be removed no sooner than 3 months from that release date. Transpiled circuits should now be passed directly using `backend.run(circuits, **run_options).\n",
      "  return func(*args, **kwargs)\n"
     ]
    },
    {
     "data": {
      "text/plain": [
       "[[1, 0, 1, 0, 0], [1, 0, 1, 1, 1], [0, 0, 1, 1, 2], [0, 0, 0, 0, 3]]"
      ]
     },
     "execution_count": 6,
     "metadata": {},
     "output_type": "execute_result"
    }
   ],
   "source": [
    "training_states = random_states()\n",
    "training_states"
   ]
  },
  {
   "cell_type": "code",
   "execution_count": 7,
   "id": "ff6bc4a8-71d5-4918-a231-da503eac2f89",
   "metadata": {},
   "outputs": [],
   "source": [
    "training_input_states = [''.join([str(x) for x in i[:4]]) for i in training_states]"
   ]
  },
  {
   "cell_type": "code",
   "execution_count": 8,
   "id": "6bcd1063-e7c7-4e21-a1c2-8dc243717072",
   "metadata": {},
   "outputs": [],
   "source": [
    "df = pd.DataFrame({})\n",
    "for i in range(200):\n",
    "    choice = np.array(training_states[np.random.randint(0, 4)])\n",
    "    df = df.append([choice.ravel().tolist()], ignore_index=True)\n",
    "df.columns = ['x0', 'x1', 'x2', 'x3', 'y']"
   ]
  },
  {
   "cell_type": "code",
   "execution_count": 9,
   "id": "72122161-fa12-4f60-9a9f-83e19c75c6a1",
   "metadata": {},
   "outputs": [
    {
     "data": {
      "text/html": [
       "<div>\n",
       "<style scoped>\n",
       "    .dataframe tbody tr th:only-of-type {\n",
       "        vertical-align: middle;\n",
       "    }\n",
       "\n",
       "    .dataframe tbody tr th {\n",
       "        vertical-align: top;\n",
       "    }\n",
       "\n",
       "    .dataframe thead th {\n",
       "        text-align: right;\n",
       "    }\n",
       "</style>\n",
       "<table border=\"1\" class=\"dataframe\">\n",
       "  <thead>\n",
       "    <tr style=\"text-align: right;\">\n",
       "      <th></th>\n",
       "      <th>x0</th>\n",
       "      <th>x1</th>\n",
       "      <th>x2</th>\n",
       "      <th>x3</th>\n",
       "      <th>y</th>\n",
       "    </tr>\n",
       "  </thead>\n",
       "  <tbody>\n",
       "    <tr>\n",
       "      <th>0</th>\n",
       "      <td>1</td>\n",
       "      <td>0</td>\n",
       "      <td>1</td>\n",
       "      <td>1</td>\n",
       "      <td>1</td>\n",
       "    </tr>\n",
       "    <tr>\n",
       "      <th>1</th>\n",
       "      <td>1</td>\n",
       "      <td>0</td>\n",
       "      <td>1</td>\n",
       "      <td>0</td>\n",
       "      <td>0</td>\n",
       "    </tr>\n",
       "    <tr>\n",
       "      <th>2</th>\n",
       "      <td>0</td>\n",
       "      <td>0</td>\n",
       "      <td>1</td>\n",
       "      <td>1</td>\n",
       "      <td>2</td>\n",
       "    </tr>\n",
       "    <tr>\n",
       "      <th>3</th>\n",
       "      <td>0</td>\n",
       "      <td>0</td>\n",
       "      <td>1</td>\n",
       "      <td>1</td>\n",
       "      <td>2</td>\n",
       "    </tr>\n",
       "    <tr>\n",
       "      <th>4</th>\n",
       "      <td>0</td>\n",
       "      <td>0</td>\n",
       "      <td>0</td>\n",
       "      <td>0</td>\n",
       "      <td>3</td>\n",
       "    </tr>\n",
       "  </tbody>\n",
       "</table>\n",
       "</div>"
      ],
      "text/plain": [
       "   x0  x1  x2  x3  y\n",
       "0   1   0   1   1  1\n",
       "1   1   0   1   0  0\n",
       "2   0   0   1   1  2\n",
       "3   0   0   1   1  2\n",
       "4   0   0   0   0  3"
      ]
     },
     "execution_count": 9,
     "metadata": {},
     "output_type": "execute_result"
    }
   ],
   "source": [
    "df.head()"
   ]
  },
  {
   "cell_type": "code",
   "execution_count": 10,
   "id": "5ca68d2c-8fcf-4557-8e3f-68d4b5dae334",
   "metadata": {},
   "outputs": [],
   "source": [
    "features = ['x0', 'x1', 'x2', 'x3']\n",
    "target = 'y'\n",
    "X_train, X_test, y_train, y_test = train_test_split(df[features].to_numpy(), df[target].to_numpy(), test_size=0.2)"
   ]
  },
  {
   "cell_type": "markdown",
   "id": "587535e9-3357-4c04-9215-04b0ec78115b",
   "metadata": {},
   "source": [
    "### The variational circuit"
   ]
  },
  {
   "cell_type": "code",
   "execution_count": 11,
   "id": "203425a6-21c9-41fa-990d-f59b649dccc0",
   "metadata": {},
   "outputs": [
    {
     "data": {
      "image/png": "[encoded data removed]",
      "text/plain": [
       "<Figure size 267.052x144.48 with 1 Axes>"
      ]
     },
     "execution_count": 11,
     "metadata": {},
     "output_type": "execute_result"
    }
   ],
   "source": [
    "dim = 2\n",
    "feature_map = ZZFeatureMap(dim, reps=1)  # let's keep it simple!\n",
    "feature_map.draw('mpl', style='iqx')"
   ]
  },
  {
   "cell_type": "code",
   "execution_count": 12,
   "id": "76b051ec-401f-41c3-8b92-a7d86b2e4d51",
   "metadata": {},
   "outputs": [
    {
     "data": {
      "image/png": "[encoded data removed]",
      "text/plain": [
       "<Figure size 267.052x144.48 with 1 Axes>"
      ]
     },
     "execution_count": 12,
     "metadata": {},
     "output_type": "execute_result"
    }
   ],
   "source": [
    "ansatz = RealAmplitudes(num_qubits=dim, entanglement='linear', reps=1)  # also simple here!\n",
    "ansatz.draw('mpl', style='iqx')"
   ]
  },
  {
   "cell_type": "code",
   "execution_count": 13,
   "id": "4f010a9d-e5e9-45ec-8e6e-afecd58be018",
   "metadata": {},
   "outputs": [
    {
     "data": {
      "image/png": "[encoded data removed]",
      "text/plain": [
       "<Figure size 447.652x144.48 with 1 Axes>"
      ]
     },
     "execution_count": 13,
     "metadata": {},
     "output_type": "execute_result"
    }
   ],
   "source": [
    "circuit = feature_map.compose(ansatz)\n",
    "circuit.draw('mpl', style='iqx')"
   ]
  },
  {
   "cell_type": "code",
   "execution_count": 14,
   "id": "8213771f-3edd-4132-bb16-18e91468c4bc",
   "metadata": {},
   "outputs": [],
   "source": [
    "hamiltonian = Z ^ Z  # global Z operators"
   ]
  },
  {
   "cell_type": "code",
   "execution_count": 15,
   "id": "557ffe19-0176-4189-ac2b-d22c6c7d17e6",
   "metadata": {},
   "outputs": [],
   "source": [
    "training_features, training_labels, test_features, test_labels = ad_hoc_data(\n",
    "    training_size=20, test_size=10, n=2, one_hot=False, gap=0.5\n",
    ")\n",
    "\n",
    "# the training labels are in {0, 1} but we'll use {-1, 1} as class labels!\n",
    "training_labels = 2 * training_labels - 1\n",
    "test_labels = 2 * test_labels - 1"
   ]
  },
  {
   "cell_type": "code",
   "execution_count": null,
   "id": "ebe47e3c-deba-4428-ad68-439a2aa93b85",
   "metadata": {},
   "outputs": [],
   "source": [
    "gd_qnn_loss = []\n",
    "def gd_qnn_callback(*args):\n",
    "    gd_qnn_loss.append(args[2])\n",
    "    \n",
    "gd = GradientDescent(maxiter=100, learning_rate=0.01, callback=gd_qnn_callback)\n",
    "from qiskit_machine_learning.neural_networks import OpflowQNN\n",
    "\n",
    "qnn_expectation = StateFn(hamiltonian, is_measurement=True) @ StateFn(circuit)\n",
    "qnn = OpflowQNN(qnn_expectation, \n",
    "                input_params=list(feature_map.parameters), \n",
    "                weight_params=list(ansatz.parameters),\n",
    "                exp_val=PauliExpectation(),\n",
    "                gradient=Gradient(),  # <-- Parameter-Shift gradients\n",
    "                quantum_instance=q_instance)\n",
    "classifier = NeuralNetworkClassifier(qnn, optimizer=gd)\n",
    "classifier.fit(training_features, training_labels);\n",
    "predicted = classifier.predict(test_features)"
   ]
  },
  {
   "cell_type": "code",
   "execution_count": null,
   "id": "ffd3326e-6cdc-4c67-a4db-d01e2b23d9b6",
   "metadata": {},
   "outputs": [],
   "source": [
    "def plot_predicted():\n",
    "    from matplotlib.lines import Line2D\n",
    "    plt.figure(figsize=(12, 6))\n",
    "\n",
    "    for feature, label in zip(training_features, training_labels):\n",
    "        marker = 'o' \n",
    "        color = 'tab:green' if label == -1 else 'tab:blue'\n",
    "        plt.scatter(feature[0], feature[1], marker=marker, s=100, color=color)\n",
    "    \n",
    "    for feature, label, pred in zip(test_features, test_labels, predicted):\n",
    "        marker = 's' \n",
    "        color = 'tab:green' if pred == -1 else 'tab:blue'\n",
    "        if label != pred:  # mark wrongly classified\n",
    "            plt.scatter(feature[0], feature[1], marker='o', s=500, linewidths=2.5,\n",
    "                        facecolor='none', edgecolor='tab:red')\n",
    "\n",
    "        plt.scatter(feature[0], feature[1], marker=marker, s=100, color=color)\n",
    "    \n",
    "    legend_elements = [\n",
    "        Line2D([0], [0], marker='o', c='w', mfc='tab:green', label='A', ms=15),\n",
    "        Line2D([0], [0], marker='o', c='w', mfc='tab:blue', label='B', ms=15),\n",
    "        Line2D([0], [0], marker='s', c='w', mfc='tab:green', label='predict A', ms=10),\n",
    "        Line2D([0], [0], marker='s', c='w', mfc='tab:blue', label='predict B', ms=10),\n",
    "        Line2D([0], [0], marker='o', c='w', mfc='none', mec='tab:red', label='wrongly classified', mew=2, ms=15)\n",
    "    ]\n",
    "\n",
    "    plt.legend(handles=legend_elements, bbox_to_anchor=(1, 0.7))\n",
    "    \n",
    "    plt.title('Training & test data')\n",
    "    plt.xlabel('$x$')\n",
    "    plt.ylabel('$y$')\n",
    "    \n",
    "plot_predicted()"
   ]
  },
  {
   "cell_type": "code",
   "execution_count": null,
   "id": "0e920734-485d-400b-9949-42b24ad66b11",
   "metadata": {},
   "outputs": [],
   "source": [
    "qng_qnn_loss = []\n",
    "def qng_qnn_callback(*args):\n",
    "    qng_qnn_loss.append(args[2])\n",
    "    \n",
    "gd = GradientDescent(maxiter=100, learning_rate=0.01, callback=qng_qnn_callback)\n",
    "qnn = OpflowQNN(qnn_expectation, \n",
    "                input_params=list(feature_map.parameters), \n",
    "                weight_params=list(ansatz.parameters),\n",
    "                gradient=NaturalGradient(regularization='ridge'),  # <-- using Natural Gradients!\n",
    "                quantum_instance=q_instance)\n",
    "classifier = NeuralNetworkClassifier(qnn, optimizer=gd)#, initial_point=initial_point)\n",
    "classifier.fit(training_features, training_labels);\n"
   ]
  },
  {
   "cell_type": "code",
   "execution_count": null,
   "id": "406f1046-5934-452e-a460-40c5004f7e9d",
   "metadata": {},
   "outputs": [],
   "source": [
    "def plot_losses():\n",
    "\n",
    "    plt.figure(figsize=(12, 6))\n",
    "    plt.plot(gd_qnn_loss, 'tab:blue', marker='o', label='vanilla gradients')\n",
    "    plt.plot(qng_qnn_loss, 'tab:green', marker='o', label='natural gradients')\n",
    "    plt.xlabel('iterations')\n",
    "    plt.ylabel('loss')\n",
    "    plt.legend(loc='best')\n",
    "\n",
    "plot_losses()"
   ]
  },
  {
   "cell_type": "code",
   "execution_count": null,
   "id": "296d5ca1-1530-4114-afcb-8b2d06ceeb9b",
   "metadata": {},
   "outputs": [],
   "source": []
  },
  {
   "cell_type": "code",
   "execution_count": null,
   "id": "e2b54032-de24-4c20-987c-eb8c5ff0c8ec",
   "metadata": {},
   "outputs": [],
   "source": []
  }
 ],
 "metadata": {
  "kernelspec": {
   "display_name": "Qiskit v0.30.0 (ipykernel)",
   "language": "python",
   "name": "python3"
  },
  "language_info": {
   "codemirror_mode": {
    "name": "ipython",
    "version": 3
   },
   "file_extension": ".py",
   "mimetype": "text/x-python",
   "name": "python",
   "nbconvert_exporter": "python",
   "pygments_lexer": "ipython3",
   "version": "3.8.10"
  },
  "widgets": {
   "application/vnd.jupyter.widget-state+json": {
    "state": {},
    "version_major": 2,
    "version_minor": 0
   }
  }
 },
 "nbformat": 4,
 "nbformat_minor": 5
}
